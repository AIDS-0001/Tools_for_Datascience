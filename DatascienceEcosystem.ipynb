{
 "cells": [
  {
   "cell_type": "markdown",
   "id": "e26ca75e-e798-4c2b-a85f-c810cbe04e7c",
   "metadata": {},
   "source": [
    "# Data Science Tools and Ecosystem"
   ]
  },
  {
   "cell_type": "markdown",
   "id": "3315f192-94e6-4882-baae-4d659346ee42",
   "metadata": {},
   "source": [
    "In this notebook, Data Science Tools and Ecosystem are summarized"
   ]
  },
  {
   "cell_type": "markdown",
   "id": "f10f9760-5c09-4315-9d9f-74fde2e0245f",
   "metadata": {},
   "source": [
    "**Objective:-**\n",
    "- List of popular languages used in Data Science\n",
    "- List of popular libraries used in Data Science\n",
    "- List of Data Science Tools\n",
    "- Conversion of minutes to hour"
   ]
  },
  {
   "cell_type": "markdown",
   "id": "6b42e926-b462-44b7-8b74-8d06b895be0d",
   "metadata": {},
   "source": [
    "### Some of the popular languages that Data Scientists use are:\n",
    "1. Python\n",
    "2. R\n",
    "3. Scala\n",
    "\n",
    "\n"
   ]
  },
  {
   "cell_type": "markdown",
   "id": "cb8dcc01-48a2-41cb-adcf-8868e269752c",
   "metadata": {},
   "source": [
    "### Some of the commonly used libraries used by Data Scientists include:\n",
    "1. matplotlib\n",
    "2. numpy\n",
    "3. ggplot\n",
    "4. Scipy"
   ]
  },
  {
   "cell_type": "markdown",
   "id": "1720979b-4495-4f4b-9aaf-dd399930c68c",
   "metadata": {},
   "source": [
    "|Data Science Tools|  \n",
    "| ------ |  \n",
    "| Apache Spark | \n",
    "| TensorFlow | \n",
    "| IBM eXchange | "
   ]
  },
  {
   "cell_type": "markdown",
   "id": "a86f2d3e-e96e-4528-81ae-f88fd03c7ffb",
   "metadata": {},
   "source": [
    "### Below are a few examples of evaluating arithmetic expressions in Python"
   ]
  },
  {
   "cell_type": "code",
   "execution_count": 2,
   "id": "62b1c456-9b64-4d49-b595-ff3ff5fafc7a",
   "metadata": {},
   "outputs": [
    {
     "data": {
      "text/plain": [
       "17"
      ]
     },
     "execution_count": 2,
     "metadata": {},
     "output_type": "execute_result"
    }
   ],
   "source": [
    "(3*4)+5"
   ]
  },
  {
   "cell_type": "code",
   "execution_count": 3,
   "id": "88763c22-a42c-4535-a548-118d6bb74aa1",
   "metadata": {},
   "outputs": [
    {
     "name": "stdout",
     "output_type": "stream",
     "text": [
      "3.3333333333333335\n"
     ]
    }
   ],
   "source": [
    "minutes=200\n",
    "hours = minutes/60\n",
    "print(hours)"
   ]
  },
  {
   "cell_type": "markdown",
   "id": "64e9dd27-073e-47bb-b929-31d3445c230a",
   "metadata": {},
   "source": [
    "## Author:\n",
    "Name: Hisan Zehra Sunasara\n"
   ]
  }
 ],
 "metadata": {
  "kernelspec": {
   "display_name": "Python",
   "language": "python",
   "name": "conda-env-python-py"
  },
  "language_info": {
   "codemirror_mode": {
    "name": "ipython",
    "version": 3
   },
   "file_extension": ".py",
   "mimetype": "text/x-python",
   "name": "python",
   "nbconvert_exporter": "python",
   "pygments_lexer": "ipython3",
   "version": "3.7.12"
  }
 },
 "nbformat": 4,
 "nbformat_minor": 5
}
